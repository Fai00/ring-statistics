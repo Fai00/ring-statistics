{
 "cells": [
  {
   "cell_type": "markdown",
   "id": "a1211b76",
   "metadata": {},
   "source": [
    "# Ring statistics code\n",
    "Firstly it is important to have a clear definition of a ring. This code is built for SiO2. And, a ring is defined as follows:\n",
    "- A ring is the shortest path starting from an atom Si_1, and ending with the same Si_1 atom made up by unique atoms (i.e no duplicates). \n",
    "- The vertices can only be Si atoms\n",
    "- The path is only valid when made up by Si-O bonds. I.e. so Si_1-O_1-Si_2-O_2-Si_1 is a valid path but Si_1-O_1-Si_2-Si_1 is not. \n",
    "- The ring size is defined by how many Si atoms are present, except for the final one. I.e. the ring aforementioned would have a size of 2. "
   ]
  },
  {
   "cell_type": "code",
   "execution_count": 1,
   "id": "7b4b78f4",
   "metadata": {},
   "outputs": [],
   "source": [
    "# Import all necessary modules here\n",
    "import ase\n",
    "from ase.io import read,write\n",
    "from ase import Atoms\n",
    "import ase.neighborlist as nb\n",
    "from ase.geometry.analysis import Analysis\n",
    "import numpy as np\n",
    "import matplotlib.pyplot as plt\n",
    "import pandas as pd\n",
    "import os, os.path\n",
    "import fnmatch\n",
    "import csv \n",
    "from collections import OrderedDict\n",
    "from collections import Counter\n",
    "#import multiprocessing\n",
    "#from scipy import sparse"
   ]
  },
  {
   "cell_type": "markdown",
   "id": "9b14960c",
   "metadata": {},
   "source": [
    "# Reading and assigning the data"
   ]
  },
  {
   "cell_type": "code",
   "execution_count": 2,
   "id": "7edc8fa1",
   "metadata": {},
   "outputs": [],
   "source": [
    "# Define the path where the file is located\n",
    "path = r' '"
   ]
  },
  {
   "cell_type": "code",
   "execution_count": 3,
   "id": "8cab6955",
   "metadata": {},
   "outputs": [
    {
     "name": "stdout",
     "output_type": "stream",
     "text": [
      "19_01.md\n",
      "There are 50 frames in the system.\n"
     ]
    }
   ],
   "source": [
    "sio2 = [] # This will contain all the data from the various files\n",
    "n = len(fnmatch.filter(os.listdir(path), '*.md')) # Setting the number of files \n",
    "#The following is to read the data\n",
    "for name in fnmatch.filter(os.listdir(path), '*.md'): # Change the '*.md' as needed\n",
    "    print (name) #Prints the name of the file\n",
    "    sio2.append(read(path+name, index=':')[25002::100]) #Opens and reads the data and appends it to sio2\n",
    "# The following is to check the number of frames in the dataset. \n",
    "for i in range(n):\n",
    "    print(\"There are\", len(sio2[i]), \"frames in the system.\")"
   ]
  },
  {
   "cell_type": "markdown",
   "id": "6474ee0b",
   "metadata": {},
   "source": [
    "# Periodic boundary"
   ]
  },
  {
   "cell_type": "code",
   "execution_count": 4,
   "id": "a3f0a2fe",
   "metadata": {
    "scrolled": false
   },
   "outputs": [
    {
     "name": "stdout",
     "output_type": "stream",
     "text": [
      "0\n"
     ]
    }
   ],
   "source": [
    "# Applying the periodic boundary\n",
    "a, b, c = 8.77, 8.77, 20.48 # Simulations box size\n",
    "for i in range(n):\n",
    "    print (i)\n",
    "    for j in range(len(sio2[i])):\n",
    "        sio2[i][j].set_cell([(a, 0, 0), (0, b, 0), (0, 0, c)])\n",
    "        sio2[i][j].set_pbc((True, True, True))\n",
    "        sio2[i][j].get_positions()"
   ]
  },
  {
   "cell_type": "markdown",
   "id": "4e8ce723",
   "metadata": {},
   "source": [
    "# Ring stat functions\n",
    "The code can be rewritten to be more efficient and elegant, however, this saves computational power as it does not need to iterate through every single atom to find the shortest path, as the path size is restricted. \n",
    "\n",
    "Furthermore, as you read the code you will see the choice of not using append, this is because a list created with .append() will keep the old information even if the starting path is changed, this can lead to errors so that is why the list is created \"manually\"."
   ]
  },
  {
   "cell_type": "code",
   "execution_count": 5,
   "id": "7519b4b5",
   "metadata": {
    "scrolled": false
   },
   "outputs": [],
   "source": [
    "def ring_stat(i, j, atom, end):\n",
    "    '''\n",
    "    Looks for specific sizes of rings, with a maximum of 9. \n",
    "    \n",
    "    Parameters\n",
    "    -----------\n",
    "    i: list of integers\n",
    "        Atoms from 0 to 89.\n",
    "    j: list of integers\n",
    "        Atoms bonded to i, ie. i[0] is bonded to j[0].\n",
    "    atom: integer\n",
    "        Atom from where to start the path search.\n",
    "    end: integer\n",
    "        Atom at which the path must end, built-in redundancy in case atom is overwritten by mistake\n",
    "    \n",
    "    Returns:\n",
    "    -----------\n",
    "    path: list\n",
    "        It contains the closed path, ie. . \n",
    "    '''\n",
    "    initial_00 = atom # Saves the atom as the starting atom.\n",
    "    indices_00 = j[np.where(i == atom)] # Makes a list of the atoms bonded to the starting atom.\n",
    "    # Loop to iterate through each of the atoms bonnded to the initial one. \n",
    "    for index_00 in indices_00:\n",
    "        initial_01 = index_00 # Saves the new atom \n",
    "        indices_01 = j[np.where(i == index_00)] # Gets the atoms bonded to this new atom\n",
    "        for index_01 in indices_01: # Iterates through all the possible bonded atoms\n",
    "            if index_01 != initial_00: # If the original atoms is present, then it is ignored, only new atoms will be considered\n",
    "                var = [index_00, index_01]  # This saves the atoms of the current path\n",
    "                if loop(i, j, index_01, var) is not None: # This avoids a recurring issue where the atoms are already part of the initial path, and hence the function returns None\n",
    "                    index_02, index_03 = loop(i, j, index_01, var)\n",
    "                    if index_03 == end: # If the index_03 is the same as the original atom, then it creates the path and returns it\n",
    "                        path = [end, index_00, index_01, index_02, index_03]\n",
    "                        return path\n",
    "                    else: # If not a it goes on\n",
    "                        var = [index_00, index_01, index_02]\n",
    "                        if loop(i, j, index_03, var) is not None: \n",
    "                            index_04, index_05 = loop(i, j, index_03, var)\n",
    "                            if index_05 == end:\n",
    "                                path = [end, index_00, index_01, index_02, index_03, index_04, index_05]\n",
    "                                return path\n",
    "                            else:\n",
    "                                if index_05 != index_03:\n",
    "                                    var = [index_00, index_01, index_02, index_03, index_04]\n",
    "                                    if loop(i, j, index_05, var) is not None:\n",
    "                                        index_06, index_07 = loop(i, j, index_05, var)\n",
    "                                        if index_07 == end:\n",
    "                                            path = [end, index_00, index_01, index_02, index_03, index_04, index_05, index_06, index_07]\n",
    "                                            return path\n",
    "                                        else:\n",
    "                                            if index_07 != index_05:\n",
    "                                                var = [index_00, index_01, index_02, index_03, index_04, index_05, index_06]\n",
    "                                                if loop(i, j, index_07, var) is not None:\n",
    "                                                    index_08, index_09 = loop(i, j, index_07, var)\n",
    "                                                    if index_09 == end:\n",
    "                                                        path = [end, index_00, index_01, index_02, index_03, index_04, index_05, index_06, index_07]\n",
    "                                                        path = path + [index_08, index_09]\n",
    "                                                        return path\n",
    "                                                    else:\n",
    "                                                        if index_09 != index_07:\n",
    "                                                            var = [index_00, index_01, index_02, index_03, index_04, index_05, index_06, index_07, index_08]\n",
    "                                                            if loop(i, j, index_09, var) is not None:\n",
    "                                                                index_10, index_11 = loop(i, j, index_09, var)\n",
    "                                                                if index_11 == end:\n",
    "                                                                    path = [end, index_00, index_01, index_02, index_03, index_04, index_05, index_06, index_07]\n",
    "                                                                    path = path + [index_08, index_09, index_10, index_11]\n",
    "                                                                    return path\n",
    "                                                                else:\n",
    "                                                                    if index_11 != index_09:\n",
    "                                                                        var = [index_00, index_01, index_02, index_03, index_04, index_05, index_06, index_07, index_08, index_09, index_10]\n",
    "                                                                        if loop(i, j, index_11, var) is not None:\n",
    "                                                                            index_12, index_13 = loop(i, j, index_11, var)\n",
    "                                                                            if index_13 == end:\n",
    "                                                                                path = [end, index_00, index_01, index_02, index_03, index_04, index_05, index_06, index_07]\n",
    "                                                                                path = path + [index_08, index_09, index_10, index_11, index_12, index_13]\n",
    "                                                                                return path\n",
    "                                                                            else:\n",
    "                                                                                if index_13 != index_11:\n",
    "                                                                                    var = [index_00, index_01, index_02, index_03, index_04, index_05, index_06, index_07, index_08, index_09, index_10, index_11, index_12]\n",
    "                                                                                    if loop(i, j, index_13, var) is not None:\n",
    "                                                                                        index_14, index_15 = loop(i, j, index_13, var)\n",
    "                                                                                        if index_15 == end:\n",
    "                                                                                            path = [end, index_00, index_01, index_02, index_03, index_04, index_05, index_06, index_07]\n",
    "                                                                                            path = path + [index_08, index_09, index_10, index_11, index_12, index_13, index_14, index_15]\n",
    "                                                                                            return path\n",
    "                                                                                        else:\n",
    "                                                                                            if index_15 != index_13:\n",
    "                                                                                                var = [index_00, index_01, index_02, index_03, index_04, index_05, index_06, index_07, index_08, index_09, index_10, index_11, index_12, index_13, index_14]\n",
    "                                                                                                if loop(i, j, index_15, var) is not None:\n",
    "                                                                                                    index_16, index_17 = loop(i, j, index_15, var)\n",
    "                                                                                                    if index_17 == end:\n",
    "                                                                                                        path = [end, index_00, index_01, index_02, index_03, index_04, index_05, index_06, index_07]\n",
    "                                                                                                        path = path + [index_08, index_09, index_10, index_11, index_12, index_13, index_14, index_15]\n",
    "                                                                                                        path = path + [index_16, index_17]\n",
    "                                                                                                        return path\n",
    "\n",
    "\n",
    "\n",
    "def loop(i, j, atom, var):\n",
    "    '''\n",
    "    Used to reduce the lenght of the orginal function\n",
    "    \n",
    "    Parameters\n",
    "    -----------\n",
    "    i: list of integers\n",
    "        Atoms from 0 to 89.\n",
    "    j: list of integers\n",
    "        Atoms bonded to i, ie. i[0] is bonded to j[0].\n",
    "    atom: integer\n",
    "        Atom from where to start the path search.\n",
    "    end: integer\n",
    "        Atom at which the path must end, built-in redundancy in case atom is overwritten by mistake\n",
    "    var: list of integers\n",
    "        This is the current path\n",
    "    Returns:\n",
    "    -----------\n",
    "    index_00: integer\n",
    "        It contains the penultimate atom in the path.\n",
    "    index_01: integer\n",
    "        It is the final atom in the path. \n",
    "    '''\n",
    "    initial_00 = atom\n",
    "    indices_00 = j[np.where(i==atom)]\n",
    "    for index_00 in indices_00:\n",
    "        if index_00 not in var:\n",
    "            initial_01 = index_00\n",
    "            indices_01 = j[np.where(i==index_00)]\n",
    "            for index_01 in indices_01:\n",
    "                if index_01 not in var:\n",
    "                    return index_00, index_01\n",
    "\n",
    "            "
   ]
  },
  {
   "cell_type": "code",
   "execution_count": 6,
   "id": "51045dd1",
   "metadata": {
    "scrolled": true
   },
   "outputs": [
    {
     "name": "stdout",
     "output_type": "stream",
     "text": [
      "0\n",
      "0 0\n",
      "0 10\n",
      "0 20\n",
      "0 30\n",
      "0 40\n",
      "767.0\n",
      "[58, 106, 40, 6, 23, 2, 1]\n",
      "average ring size =  3.25\n"
     ]
    }
   ],
   "source": [
    "keys = [] # List, it will contain the information of what size ring are present in each calculation\n",
    "h = [] # List, it will contain the frequency of rings sizes present in each calculation\n",
    "averages = [] # List, it will contain the average ring size of each calculation\n",
    "abs_rings = [] # List, used to store the rings in case the overall average is needed\n",
    "for l in range(len(sio2)):\n",
    "    print(l)\n",
    "    frame_rings = []\n",
    "    # The following is to check if the code is running, for very large files.\n",
    "    for k in range(len(sio2[l])):\n",
    "        if k%10 ==0:\n",
    "            print(l,k)\n",
    "        rings = [] # It will contain the ring count\n",
    "        var = [] # This is a dummy variable to temporarily store the ring_stat function results\n",
    "        ana = Analysis(sio2[l][k]) # Look at https://wiki.fysik.dtu.dk/ase/ase/geometry.html#analysis-tools\n",
    "        i, j = nb.neighbor_list('ij', sio2[l][k], {('Si', 'O'): 1.8}) # https://wiki.fysik.dtu.dk/ase/ase/neighborlist.html#ase.neighborlist.neighbor_list\n",
    "        # The following iterates through all the Si atom, they start from index 60 to 89. \n",
    "        for m in range(60, 90):\n",
    "            var.append(ring_stat(i, j, m, m))\n",
    "            #The following deletes any empty list\n",
    "            if var[-1] is None:\n",
    "                del var[-1]\n",
    "        var2 = [] # Dummy variable #2, it is used in combination with var to get rid of any duplicate paths\n",
    "        # The following sorts the path so that duplicate initial atom can be removed. \n",
    "        # In indsight it could have beena avoided by not adding the initial atom at the end, but it was needed to confirm the validity of the path\n",
    "        for m in range(len(var)):\n",
    "            var[m] = list(set(var[m]))\n",
    "            var[m].sort()\n",
    "        # The following gets rid of any duplicate paths\n",
    "        for i in var:\n",
    "            if i not in var2:\n",
    "                var2.append(i)\n",
    "                rings.append(len(i)/2) # Rings will contain the size of the ring, a ring of size x has 2x atoms, hence it is being divided by 2. \n",
    "        rings.sort() # Sorts the rings \n",
    "        my_dict = {i:rings.count(i) for i in rings} #Creates a dictionary to keep track of how many rings of size x are present as {x:n}\n",
    "        frame_rings.append(my_dict) # Frame rings will contain the value for the specific frame.\n",
    "        #print(frame_rings)\n",
    "    # The following is used to create a single dictionary with the information from every single frame\n",
    "    c = Counter()\n",
    "    for d in frame_rings:\n",
    "        c.update(d)\n",
    "    calc_rings = dict(c)\n",
    "    arr = [] # Another dummy variables used for storing data\n",
    "    abs_rings.append(calc_rings)\n",
    "    for key in calc_rings: # This totalizes the number of rings of size x.\n",
    "        dummy = np.full(calc_rings[key], key)\n",
    "        arr.append(np.bincount(dummy.tolist()))\n",
    "    hist = [] # Variable to contain the data for the histogram\n",
    "    for a in arr:\n",
    "        hist.append(a[-1])\n",
    "    key = list(calc_rings.keys()) # Creates a list of the varies rings sizes in the calculation\n",
    "    # The following is used to calculate the average of the calculation\n",
    "    x = 0\n",
    "    for i in range(len(hist)):\n",
    "        x += key[i]*hist[i]\n",
    "    print (x) \n",
    "    avg = x/np.sum(hist)\n",
    "    hist2 = hist/np.sum(hist)\n",
    "    print (hist)\n",
    "    print('average ring size = ', avg)\n",
    "    avg = round(avg, 2)\n",
    "    keys.append(key) # Saves the labels of the current calculation. \n",
    "    h.append(hist2) # Save the information of the frequency of the rings of the calculation\n",
    "    averages.append(avg) # Saves the average of the calculation\n",
    "# The following are prints to check for errors\n",
    "# print(keys)\n",
    "# print(h)\n",
    "# print(averages)"
   ]
  },
  {
   "cell_type": "markdown",
   "id": "d5614b4a",
   "metadata": {},
   "source": [
    "# Average of all the calculations. \n",
    "- If multiple calculations are being analysed, the following will make an average of all the calculations. \n",
    "- If a single calculation is being used then leave it commented."
   ]
  },
  {
   "cell_type": "code",
   "execution_count": 7,
   "id": "ab3f56e0",
   "metadata": {
    "scrolled": true
   },
   "outputs": [],
   "source": [
    "# # Average of all the calculations\n",
    "# for d in abs_rings:\n",
    "#     c.update(d)\n",
    "# rings = dict(c)\n",
    "# print (\"rings\", rings)\n",
    "# key = list(rings.keys())\n",
    "# arr = []\n",
    "# for a in rings:\n",
    "#     dummy = np.full(rings[a], a)\n",
    "#     arr.append(np.bincount(dummy.tolist()))\n",
    "# hist = []\n",
    "# for a in arr:\n",
    "#     hist.append(a[-1])\n",
    "# x = 0\n",
    "# for i in range(len(hist)):\n",
    "#     x += key[i]*hist[i]\n",
    "# avg = x/np.sum(hist)\n",
    "# hist = hist/np.sum(hist)\n",
    "# print('average ring size = ', avg)\n",
    "# avg = round(avg, 2)\n",
    "# keys.append(key)\n",
    "# h.append(hist)\n",
    "# averages.append(avg)\n",
    "# print (len(key))\n",
    "# print (key)\n",
    "# print(keys[-1])\n",
    "# print(len(keys))"
   ]
  },
  {
   "cell_type": "markdown",
   "id": "6d9449a8",
   "metadata": {},
   "source": [
    "# Errors on the average\n",
    "This works only on a single calculation, hence if it is a single calculation uncomment it, otherwise, wait for the update. "
   ]
  },
  {
   "cell_type": "code",
   "execution_count": 9,
   "id": "07c0bf39",
   "metadata": {},
   "outputs": [
    {
     "name": "stdout",
     "output_type": "stream",
     "text": [
      "[[0.18737385 0.25330742 0.15560551 0.06026576 0.11799372 0.03479445\n",
      "  0.02460339]]\n",
      "[array([0.24576271, 0.44915254, 0.16949153, 0.02542373, 0.09745763,\n",
      "       0.00847458, 0.00423729])]\n",
      "1.1505150444527321\n"
     ]
    }
   ],
   "source": [
    "sumSquare = 0\n",
    "for i in range(len(h[0])):\n",
    "    sumSquare += (keys[0][i]*h[0][i]-averages[0])**2\n",
    "standDev = np.sqrt(h)/np.sqrt(len(hist))\n",
    "print(standDev)\n",
    "print(h)\n",
    "pStandDev = np.sqrt(sumSquare/(len(h[0])-1))\n",
    "error = pStandDev/np.sqrt(len(h[0]))\n",
    "print (error)"
   ]
  },
  {
   "cell_type": "markdown",
   "id": "36c28bc6",
   "metadata": {},
   "source": [
    "# Saving the data"
   ]
  },
  {
   "cell_type": "code",
   "execution_count": 10,
   "id": "07e5c24a",
   "metadata": {},
   "outputs": [],
   "source": [
    "# # open file for writing, \"w\" is writing\n",
    "# w = csv.writer(open(\"19_ring.csv\", \"w\"))\n",
    "# # loop over dictionary keys and values\n",
    "# for n in range(len(keys[0])):\n",
    "#     # write every key and value to file\n",
    "#     w.writerow([keys[0][n], h[0][n]])"
   ]
  },
  {
   "cell_type": "markdown",
   "id": "2a701bc8",
   "metadata": {},
   "source": [
    "# Plotting the data\n",
    "There are two plotting systems.\n",
    "- The first one is for a single calculation,\n",
    "- The second one is for multiple calculations.\n",
    "Comment/uncomment whichever one is needed. "
   ]
  },
  {
   "cell_type": "code",
   "execution_count": 11,
   "id": "08af62c2",
   "metadata": {
    "scrolled": false
   },
   "outputs": [
    {
     "data": {
      "image/png": "[encoded data removed]",
      "text/plain": [
       "<Figure size 720x360 with 1 Axes>"
      ]
     },
     "metadata": {
      "needs_background": "light"
     },
     "output_type": "display_data"
    }
   ],
   "source": [
    "densities = 1.9 # density of the system\n",
    "n = len(fnmatch.filter(os.listdir(path), '*.md')) # number of calculation of a specific density\n",
    "# Plotting the results, change 1 to the number of calculations n, or if also including the full average n+1\n",
    "fig, ax = plt.subplots(1, figsize=(10, 5)) # \n",
    "#Defining the labels and part of the title\n",
    "x_label = \"Ring size\"\n",
    "y_label = \"Frequency (%)\"\n",
    "# if multiple calculations are being analysed at once, change the range from n to n+1 to include the average\n",
    "# graph of all the calculations\n",
    "for i in range(n):\n",
    "    x_values = keys[i] # defines the x values\n",
    "    width = 1 # The width of the bars\n",
    "    y = h[i] # Defines the y values\n",
    "    # Modify the title as needed\n",
    "    title = \"Ring statistics of \" + str(densities) + \" g/cm$^3$ SiO2, in CASTEP. Average.\"\n",
    "    # Plotting the data\n",
    "    bars = ax.bar(x_values, y, align='center', width=width,\n",
    "               label= str(densities) + \" g/cm^3\", edgecolor = 'black')\n",
    "    #Setting the labels\n",
    "    ax.set(xlabel=x_label, ylabel=y_label,  title=title)\n",
    "    #Creating the legend\n",
    "    ax.legend()\n",
    "    # Setting the axis limits for better visulization of the data\n",
    "    ax.set_xlim(np.min(x_values)-1, np.max(x_values)+1)\n",
    "    ax.set_ylim([0, np.max(h[i])+0.1])\n",
    "    plt.xticks(x_values)\n",
    "    ax.tick_params(bottom=False, left=False)\n",
    "    ax.set_axisbelow(True)\n",
    "    # Labelling each bar with its y value rounded to 2 d.p. \n",
    "    for bar in bars:\n",
    "      ax.text(\n",
    "          bar.get_x() + bar.get_width() / 2,\n",
    "          bar.get_height() + 0.01,\n",
    "          round(bar.get_height(), 2),\n",
    "          horizontalalignment='center',\n",
    "          color=\"black\",\n",
    "      )\n",
    "    # Writing the average in the plot \n",
    "    avg = averages[i]\n",
    "    text = f'Average ring size: {avg} \\n'\n",
    "    ax.text(9, 0.2, text, \n",
    "            horizontalalignment='right', fontsize=12)"
   ]
  },
  {
   "cell_type": "code",
   "execution_count": 12,
   "id": "af9f4b64",
   "metadata": {
    "scrolled": false
   },
   "outputs": [],
   "source": [
    "# densities = 2.0 #  density of the system\n",
    "# n = len(fnmatch.filter(os.listdir(path), '*.md'))\n",
    "# # Plotting the results\n",
    "# fig, ax = plt.subplots(n+1, figsize=(15, 45))\n",
    "# x_label = \"Ring size\"\n",
    "# y_label = \"Frequency (%)\"\n",
    "# names = [\"#01\", \"#02\", \"#03\", \"#04\", \"#05\", \"#06\", '#07', \"Average\"] # Names of the different graphs.\n",
    "# for i in range(n+1):\n",
    "#     x_values = keys[i]\n",
    "#     width = 1\n",
    "#     y = h[i]\n",
    "#     title = \"Ring statistics of\" + str(densities) + \" g/cm^3 SiO2, in CASTEP. \" + names[i] + \".\"\n",
    "#     bars = ax[i].bar(x_values, y, align='center', width=width,\n",
    "#                label= str(densities) + \" g/cm^3\", edgecolor = 'black')\n",
    "#     ax[i].set(xlabel=x_label, ylabel=y_label,  title=title)\n",
    "#     ax[i].legend()\n",
    "#     ax[i].set_xlim(np.min(x_values)-1, np.max(x_values)+1)\n",
    "#     ax[i].set_ylim([0, np.max(h[i])+0.1])\n",
    "#     plt.xticks(x_values)\n",
    "#     ax[i].tick_params(bottom=False, left=False)\n",
    "#     ax[i].set_axisbelow(True)\n",
    "\n",
    "#     for bar in bars:\n",
    "#       ax[i].text(\n",
    "#           bar.get_x() + bar.get_width() / 2,\n",
    "#           bar.get_height() + 0.01,\n",
    "#           round(bar.get_height(), 2),\n",
    "#           horizontalalignment='center',\n",
    "#           color=\"black\",\n",
    "#       )\n",
    "#     # Writing the results in the plot \n",
    "#     avg = averages[i]\n",
    "#     text = f'Average ring size: {avg} \\n'\n",
    "#     ax[i].text(7, 0.2, text, \n",
    "#             horizontalalignment='right', fontsize=12)"
   ]
  }
 ],
 "metadata": {
  "kernelspec": {
   "display_name": "Python 3 (ipykernel)",
   "language": "python",
   "name": "python3"
  },
  "language_info": {
   "codemirror_mode": {
    "name": "ipython",
    "version": 3
   },
   "file_extension": ".py",
   "mimetype": "text/x-python",
   "name": "python",
   "nbconvert_exporter": "python",
   "pygments_lexer": "ipython3",
   "version": "3.10.2"
  }
 },
 "nbformat": 4,
 "nbformat_minor": 5
}
